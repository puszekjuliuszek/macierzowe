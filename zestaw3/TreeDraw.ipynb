{
 "cells": [
  {
   "cell_type": "code",
   "execution_count": 21,
   "metadata": {},
   "outputs": [],
   "source": [
    "import numpy as np\n",
    "import matplotlib.pyplot as plt\n",
    "from collections import deque\n",
    "from CompressTree import CompressTree\n",
    "from numpy.linalg import svd\n",
    "\n",
    "def TreeDraw(root):\n",
    "    image = np.ones(root.matrix.shape)*255\n",
    "\n",
    "    Q = deque()\n",
    "    Q.append(root)\n",
    "    while Q:\n",
    "        v = Q.pop()\n",
    "        if v.leaf:\n",
    "            r = len(v.s)\n",
    "            image[v.row_min:v.row_max, v.col_min:v.col_min+r] = 60*np.ones((v.row_max - v.row_min, r))#np.zeros((v.row_max - v.row_min, min(r,v.col_max - v.col_min )))\n",
    "            image[v.row_min:v.row_min + r, v.col_min:v.col_max] =60*np.ones((r , v.col_max - v.col_min)) #np.zeros((min(r,v.row_max - v.row_min) , v.col_max - v.col_min))\n",
    "            image[v.row_min, v.col_min:v.col_max] = np.zeros((1,v.col_max - v.col_min))\n",
    "            image[v.row_max-1, v.col_min:v.col_max] = np.zeros((1,v.col_max - v.col_min))\n",
    "            image[v.row_min:v.row_max,v.col_min] = np.zeros(v.row_max-v.row_min)\n",
    "            image[v.row_min:v.row_max,v.col_max-1] = np.zeros(v.row_max-v.row_min)\n",
    "        else:\n",
    "            for i in range(2):\n",
    "                for j in range(2):\n",
    "                    Q.append(v.childs[i][j])\n",
    "    \n",
    "\n",
    "\n",
    "    plt.imshow(image,cmap = \"gray\", vmin=0, vmax=255)\n",
    "    plt.show()"
   ]
  },
  {
   "cell_type": "code",
   "execution_count": 25,
   "metadata": {},
   "outputs": [
    {
     "data": {
      "text/plain": [
       "array([[0., 0., 0., ..., 0., 0., 0.],\n",
       "       [0., 0., 0., ..., 0., 0., 0.],\n",
       "       [0., 0., 0., ..., 0., 0., 0.],\n",
       "       ...,\n",
       "       [0., 0., 0., ..., 0., 0., 0.],\n",
       "       [0., 0., 0., ..., 0., 0., 0.],\n",
       "       [0., 0., 0., ..., 0., 0., 0.]])"
      ]
     },
     "execution_count": 25,
     "metadata": {},
     "output_type": "execute_result"
    }
   ],
   "source": [
    "X = np.random.random((64,64))\n",
    "P = np.random.random((64,64))\n",
    "P = (P > 0.995).astype(int)\n",
    "X = P * X\n",
    "X"
   ]
  },
  {
   "cell_type": "code",
   "execution_count": 27,
   "metadata": {},
   "outputs": [],
   "source": [
    "root = CompressTree(X, 0, len(X), 0, len(X[0]))\n",
    "U, Sigma, V = svd(X)\n",
    "Sigma\n",
    "root.create_tree(1, Sigma[len(Sigma)-1])"
   ]
  },
  {
   "cell_type": "code",
   "execution_count": 28,
   "metadata": {},
   "outputs": [
    {
     "data": {
      "image/png": "[encoded data removed]",
      "text/plain": [
       "<Figure size 640x480 with 1 Axes>"
      ]
     },
     "metadata": {},
     "output_type": "display_data"
    }
   ],
   "source": [
    "TreeDraw(root)"
   ]
  }
 ],
 "metadata": {
  "kernelspec": {
   "display_name": "base",
   "language": "python",
   "name": "python3"
  },
  "language_info": {
   "codemirror_mode": {
    "name": "ipython",
    "version": 3
   },
   "file_extension": ".py",
   "mimetype": "text/x-python",
   "name": "python",
   "nbconvert_exporter": "python",
   "pygments_lexer": "ipython3",
   "version": "3.9.12"
  }
 },
 "nbformat": 4,
 "nbformat_minor": 2
}
