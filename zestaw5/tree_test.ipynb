{
 "cells": [
  {
   "cell_type": "code",
   "execution_count": 1,
   "metadata": {
    "ExecuteTime": {
     "end_time": "2023-11-26T14:18:25.800199700Z",
     "start_time": "2023-11-26T14:18:21.032174700Z"
    }
   },
   "outputs": [],
   "source": [
    "import numpy as np\n",
    "from CompressTree import CompressTree\n",
    "from numpy.linalg import svd\n",
    "from TreeDraw import draw_tree\n",
    "from MatrixGenerator import generate_3d_matrix\n",
    "from SparseDraw import sparse_draw\n",
    "from MatrixMultiplication import compmatrix_mul_vector, mul_compmatrix"
   ]
  },
  {
   "cell_type": "code",
   "execution_count": 2,
   "metadata": {},
   "outputs": [
    {
     "data": {
      "text/plain": [
       "array([[1, 0],\n",
       "       [0, 1]])"
      ]
     },
     "execution_count": 2,
     "metadata": {},
     "output_type": "execute_result"
    }
   ],
   "source": [
    "a = np.array([1,1])\n",
    "np.diag(a)"
   ]
  },
  {
   "cell_type": "code",
   "execution_count": 9,
   "metadata": {
    "ExecuteTime": {
     "end_time": "2023-11-26T14:18:25.815699200Z",
     "start_time": "2023-11-26T14:18:25.773195200Z"
    }
   },
   "outputs": [
    {
     "data": {
      "text/plain": [
       "array([[0.        , 0.88317815, 0.        , ..., 0.        , 0.        ,\n",
       "        0.        ],\n",
       "       [0.5763505 , 0.        , 0.60585843, ..., 0.        , 0.        ,\n",
       "        0.        ],\n",
       "       [0.        , 0.14452582, 0.        , ..., 0.        , 0.        ,\n",
       "        0.        ],\n",
       "       ...,\n",
       "       [0.        , 0.        , 0.        , ..., 0.        , 0.82657679,\n",
       "        0.        ],\n",
       "       [0.        , 0.        , 0.        , ..., 0.49846858, 0.        ,\n",
       "        0.5970217 ],\n",
       "       [0.        , 0.        , 0.        , ..., 0.        , 0.62216032,\n",
       "        0.        ]])"
      ]
     },
     "execution_count": 9,
     "metadata": {},
     "output_type": "execute_result"
    }
   ],
   "source": [
    "k = 2\n",
    "n = 2**(k*3)\n",
    "X = generate_3d_matrix(k)\n",
    "X\n"
   ]
  },
  {
   "cell_type": "code",
   "execution_count": 10,
   "metadata": {
    "ExecuteTime": {
     "end_time": "2023-11-26T14:18:27.211782200Z",
     "start_time": "2023-11-26T14:18:25.812697400Z"
    }
   },
   "outputs": [],
   "source": [
    "root = CompressTree(X, 0, len(X), 0, len(X[0]))\n",
    "U, Sigma, V = svd(X)\n",
    "Sigma\n",
    "root.create_tree(1, Sigma[2])"
   ]
  },
  {
   "cell_type": "code",
   "execution_count": 11,
   "metadata": {
    "ExecuteTime": {
     "end_time": "2023-11-26T14:18:27.538796500Z",
     "start_time": "2023-11-26T14:18:27.215797400Z"
    }
   },
   "outputs": [
    {
     "data": {
      "image/png": "[encoded data removed]",
      "text/plain": [
       "<Figure size 100x100 with 1 Axes>"
      ]
     },
     "metadata": {},
     "output_type": "display_data"
    },
    {
     "data": {
      "image/png": "[encoded data removed]",
      "text/plain": [
       "<Figure size 100x100 with 1 Axes>"
      ]
     },
     "metadata": {},
     "output_type": "display_data"
    },
    {
     "name": "stdout",
     "output_type": "stream",
     "text": [
      "(1569, 4096)\n"
     ]
    }
   ],
   "source": [
    "sparse_draw(X, \"sparse matrix\")\n",
    "draw_tree(root, 'compression')\n",
    "print(root.compute_compression())\n"
   ]
  },
  {
   "cell_type": "code",
   "execution_count": 12,
   "metadata": {},
   "outputs": [
    {
     "data": {
      "text/plain": [
       "array([1.])"
      ]
     },
     "execution_count": 12,
     "metadata": {},
     "output_type": "execute_result"
    }
   ],
   "source": [
    "s = np.array([[1., 1.]])\n",
    "np.diag(s)"
   ]
  },
  {
   "cell_type": "code",
   "execution_count": 16,
   "metadata": {},
   "outputs": [],
   "source": [
    "result = mul_compmatrix(root, root)"
   ]
  },
  {
   "cell_type": "code",
   "execution_count": 17,
   "metadata": {},
   "outputs": [
    {
     "data": {
      "image/png": "[encoded data removed]",
      "text/plain": [
       "<Figure size 100x100 with 1 Axes>"
      ]
     },
     "metadata": {},
     "output_type": "display_data"
    }
   ],
   "source": [
    "draw_tree(result, 'compression')"
   ]
  },
  {
   "cell_type": "code",
   "execution_count": null,
   "metadata": {},
   "outputs": [],
   "source": []
  }
 ],
 "metadata": {
  "kernelspec": {
   "display_name": "base",
   "language": "python",
   "name": "python3"
  },
  "language_info": {
   "codemirror_mode": {
    "name": "ipython",
    "version": 3
   },
   "file_extension": ".py",
   "mimetype": "text/x-python",
   "name": "python",
   "nbconvert_exporter": "python",
   "pygments_lexer": "ipython3",
   "version": "3.9.12"
  }
 },
 "nbformat": 4,
 "nbformat_minor": 2
}
